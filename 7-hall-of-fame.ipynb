{
 "cells": [
  {
   "cell_type": "code",
   "execution_count": 18,
   "metadata": {},
   "outputs": [
    {
     "name": "stdout",
     "output_type": "stream",
     "text": [
      "완료 되었습니다.\n"
     ]
    }
   ],
   "source": [
    "import requests\n",
    "from datetime import datetime\n",
    "from bs4 import BeautifulSoup\n",
    "import pandas\n",
    "\n",
    "today = datetime.today().strftime( \"%Y%m%d\" )\n",
    "url = \"https://movie.naver.com/movie/sdb/rank/rmovie.nhn?sel=pnt&date=\" + today\n",
    "response = requests.get( url )\n",
    "html = BeautifulSoup( response.content, \"html.parser\" )\n",
    "\n",
    "titles = html.find_all( class_=\"tit5\" )\n",
    "points = html.find_all( class_=\"point\" )\n",
    "\n",
    "title_texts = []\n",
    "point_texts = []\n",
    "\n",
    "for title in titles :\n",
    "    title_texts.append( title.get_text().strip() )\n",
    "for point in points :\n",
    "    point_texts.append( point.get_text().strip() )\n",
    "\n",
    "data = pandas.DataFrame() # 스프레드시트의 시트 생성\n",
    "data['평점'] = point_texts; # [ '9.59', '9.59', '9.53', '9.50' ]\n",
    "data['영화명'] = title_texts; # [ '그린 북', '가버나움', '베일리 어게인', '포드 v 페라리']\n",
    "data.to_excel( today + '-hall-of-fame.xls', index=False )\n",
    "\n",
    "print( \"완료 되었습니다.\" )\n",
    "\n",
    "# 반복문, 순환문\n",
    "#for index, title in enumerate( titles ) :\n",
    "#    print( \"[\" + points[ index ].get_text().strip() + \"] \" + title.get_text().strip() )\n",
    "\n",
    "# 작성한 스크립트를 반복 실행 하려면...\n",
    "# 윈도 스케쥴러\n",
    "# 리눅스 cron(job)\n",
    "# 클라우드 기반 (AWS, GCP, MS Azure)\n",
    "#   AWS Lambda + Cloud Watch\n"
   ]
  },
  {
   "cell_type": "code",
   "execution_count": null,
   "metadata": {},
   "outputs": [],
   "source": []
  }
 ],
 "metadata": {
  "kernelspec": {
   "display_name": "Python 3",
   "language": "python",
   "name": "python3"
  },
  "language_info": {
   "codemirror_mode": {
    "name": "ipython",
    "version": 3
   },
   "file_extension": ".py",
   "mimetype": "text/x-python",
   "name": "python",
   "nbconvert_exporter": "python",
   "pygments_lexer": "ipython3",
   "version": "3.7.6"
  }
 },
 "nbformat": 4,
 "nbformat_minor": 4
}
