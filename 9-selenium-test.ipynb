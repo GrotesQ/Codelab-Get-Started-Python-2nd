{
 "cells": [
  {
   "cell_type": "code",
   "execution_count": 10,
   "metadata": {},
   "outputs": [],
   "source": [
    "from selenium import webdriver\n",
    "import time\n",
    "from bs4 import BeautifulSoup\n",
    "\n",
    "browser = webdriver.Chrome( './chromedriver' ) # 드라이버 경로\n",
    "browser.get( 'https://www.tpirates.com' )\n",
    "time.sleep( 2 ) # 2초 대기\n",
    "browser.find_element_by_link_text( '시장' ).click()\n",
    "time.sleep( 2 )\n",
    "browser.find_element_by_id( 'searchZoneCode' ).click()\n",
    "browser.find_element_by_class_name( 'targetItem0000000002_0' ).click()\n",
    "browser.find_element_by_id( 'sorting' ).click()\n",
    "browser.find_element_by_class_name( 'targetItempopularity' ).click()\n",
    "time.sleep( 1 )\n",
    "\n",
    "html = BeautifulSoup( browser.page_source, \"html.parser\" )\n",
    "print( html )\n",
    "browser.close()\n"
   ]
  },
  {
   "cell_type": "code",
   "execution_count": null,
   "metadata": {},
   "outputs": [],
   "source": []
  }
 ],
 "metadata": {
  "kernelspec": {
   "display_name": "Python 3",
   "language": "python",
   "name": "python3"
  },
  "language_info": {
   "codemirror_mode": {
    "name": "ipython",
    "version": 3
   },
   "file_extension": ".py",
   "mimetype": "text/x-python",
   "name": "python",
   "nbconvert_exporter": "python",
   "pygments_lexer": "ipython3",
   "version": "3.7.6"
  }
 },
 "nbformat": 4,
 "nbformat_minor": 4
}
