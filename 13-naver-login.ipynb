{
 "cells": [
  {
   "cell_type": "code",
   "execution_count": 2,
   "metadata": {},
   "outputs": [],
   "source": [
    "# 셀레니움으로 네이버 로그인을 시도하는 코드입니다.\n",
    "# 이 코드는 로그인을 성공적으로 수행할 수 없습니다.\n",
    "\n",
    "from selenium import webdriver\n",
    "\n",
    "browser = webdriver.Chrome( './chromedriver' )\n",
    "browser.get( 'https://nid.naver.com/nidlogin.login?mode=form&url=https%3A%2F%2Fwww.naver.com' )\n",
    "\n",
    "browser.find_element_by_id( 'id' ).send_keys( 'nlovej' )\n",
    "browser.find_element_by_id( 'pw' ).send_keys( 'nlovej' )\n",
    "browser.find_element_by_id( 'pw' ).submit()\n"
   ]
  },
  {
   "cell_type": "code",
   "execution_count": null,
   "metadata": {},
   "outputs": [],
   "source": []
  }
 ],
 "metadata": {
  "kernelspec": {
   "display_name": "Python 3",
   "language": "python",
   "name": "python3"
  },
  "language_info": {
   "codemirror_mode": {
    "name": "ipython",
    "version": 3
   },
   "file_extension": ".py",
   "mimetype": "text/x-python",
   "name": "python",
   "nbconvert_exporter": "python",
   "pygments_lexer": "ipython3",
   "version": "3.7.6"
  }
 },
 "nbformat": 4,
 "nbformat_minor": 4
}
