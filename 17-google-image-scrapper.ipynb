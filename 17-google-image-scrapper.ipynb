{
 "cells": [
  {
   "cell_type": "code",
   "execution_count": 7,
   "metadata": {},
   "outputs": [
    {
     "name": "stdout",
     "output_type": "stream",
     "text": [
      "검색어를 입력하세요서핑\n",
      "None\n"
     ]
    }
   ],
   "source": [
    "from selenium import webdriver\n",
    "from bs4 import BeautifulSoup\n",
    "import time\n",
    "import urllib.request\n",
    "\n",
    "keyword = input( '검색어를 입력하세요' )\n",
    "url = 'https://www.google.com/search?q=' + keyword + '&tbm=isch'\n",
    "browser = webdriver.Chrome( './chromedriver' )\n",
    "browser.get( url )\n",
    "\n",
    "browser.find_element_by_class_name( 'wXeWr' ).click()\n",
    "\n",
    "html = BeautifulSoup( browser.page_source, 'html.parser' )\n",
    "# img = html.find( class_='n3VNCb' )\n",
    "# print( img )\n",
    "\n",
    "# items = html.select( 'a.wXeWr' )\n",
    "# links = []\n",
    "\n",
    "# for item in items :\n",
    "#     links.append( item[ 'href' ] )\n",
    "\n",
    "# for link in links :\n",
    "#     browser.get( link )\n",
    "#     html = BeautifulSoup( browser.page_source, 'html.parser' )\n",
    "#     img = html.select( '.irc_mi' )[ 0 ]\n",
    "#     src = img[ 'src' ]\n",
    "#     urllib.request.urlretrieve( src, './images/' + src.split('/').pop() ) # 원본 주소, 저장할 이름\n",
    "\n",
    "# browser.close()"
   ]
  },
  {
   "cell_type": "code",
   "execution_count": null,
   "metadata": {},
   "outputs": [],
   "source": []
  }
 ],
 "metadata": {
  "kernelspec": {
   "display_name": "Python 3",
   "language": "python",
   "name": "python3"
  },
  "language_info": {
   "codemirror_mode": {
    "name": "ipython",
    "version": 3
   },
   "file_extension": ".py",
   "mimetype": "text/x-python",
   "name": "python",
   "nbconvert_exporter": "python",
   "pygments_lexer": "ipython3",
   "version": "3.7.6"
  }
 },
 "nbformat": 4,
 "nbformat_minor": 4
}
