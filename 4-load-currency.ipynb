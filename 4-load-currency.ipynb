{
 "cells": [
  {
   "cell_type": "code",
   "execution_count": 12,
   "metadata": {},
   "outputs": [
    {
     "name": "stdout",
     "output_type": "stream",
     "text": [
      "달러 환율\n",
      "1,240.50\n"
     ]
    }
   ],
   "source": [
    "import requests\n",
    "from bs4 import BeautifulSoup # html 분석을 할 때 가장 많이 사용되는 패키지\n",
    "\n",
    "# 마크업 문서\n",
    "# HTML은 태그를 기반으로 한 마크업 문서\n",
    "# <h1>대제목</h1>, <h2>소제목</h2>, <p>문단</p>\n",
    "# <태그></태그>\n",
    "# class, id attribute 속성\n",
    "# <h1 class=\"title\">제목</h1> attibuteName=\"VALUE\"\n",
    "# <h2 id=\"section2_title\">제목 2</h2>\n",
    "# selector 표현식\n",
    "# class = . , id = # \n",
    "\n",
    "response = requests.get( \"https://search.naver.com/search.naver?sm=top_hty&fbm=0&ie=utf8&query=%EB%8B%AC%EB%9F%AC+%ED%99%98%EC%9C%A8\" )\n",
    "html = BeautifulSoup( response.content, 'html.parser' )\n",
    "rate_tlt = html.find( class_=\"rate_tlt\" ) # 클래스 탐색 => class_=\"클래스명\"\n",
    "currency = rate_tlt.find( \"strong\" ) # 태그 탐색 => 태그 이름\n",
    "print( \"달러 환율\" )\n",
    "print( currency.get_text() )"
   ]
  },
  {
   "cell_type": "code",
   "execution_count": null,
   "metadata": {},
   "outputs": [],
   "source": []
  }
 ],
 "metadata": {
  "kernelspec": {
   "display_name": "Python 3",
   "language": "python",
   "name": "python3"
  },
  "language_info": {
   "codemirror_mode": {
    "name": "ipython",
    "version": 3
   },
   "file_extension": ".py",
   "mimetype": "text/x-python",
   "name": "python",
   "nbconvert_exporter": "python",
   "pygments_lexer": "ipython3",
   "version": "3.7.6"
  }
 },
 "nbformat": 4,
 "nbformat_minor": 4
}
