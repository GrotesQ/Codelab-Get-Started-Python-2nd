{
 "cells": [
  {
   "cell_type": "code",
   "execution_count": 1,
   "metadata": {},
   "outputs": [],
   "source": [
    "# 변수\n",
    "file = open( \"file.txt\", \"a\" ) # file.txt append 모드로 열고 file 이라는 변수에 담는다\n",
    "file.write( \"Hello World\" ) # file 변수에 담긴 객체에 write 함수(메소드)를 이용해 \"Hello World\" 라는 문자열을 기록한다\n",
    "file.close() # 파일 작성을 종료한다"
   ]
  },
  {
   "cell_type": "code",
   "execution_count": null,
   "metadata": {},
   "outputs": [],
   "source": []
  }
 ],
 "metadata": {
  "kernelspec": {
   "display_name": "Python 3",
   "language": "python",
   "name": "python3"
  },
  "language_info": {
   "codemirror_mode": {
    "name": "ipython",
    "version": 3
   },
   "file_extension": ".py",
   "mimetype": "text/x-python",
   "name": "python",
   "nbconvert_exporter": "python",
   "pygments_lexer": "ipython3",
   "version": "3.7.6"
  }
 },
 "nbformat": 4,
 "nbformat_minor": 4
}
