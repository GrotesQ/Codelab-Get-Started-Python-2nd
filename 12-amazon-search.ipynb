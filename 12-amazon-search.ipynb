{
 "cells": [
  {
   "cell_type": "code",
   "execution_count": 3,
   "metadata": {},
   "outputs": [
    {
     "name": "stdout",
     "output_type": "stream",
     "text": [
      "검색어를 입력하세요Avangers\n",
      "- Marvel's The Avengers\n",
      "- Clip: Lego Marvel Super Heroes 2 Playthrough with Brick Show Brian\n",
      "- Avengers: Infinity War\n",
      "- Marvel Studios' Avengers: Endgame\n",
      "- Thanos vs Thor & Hulk\n",
      "- Captain America: The First Avenger\n",
      "- Marvel’s Avengers: Age of Ultron (Theatrical)\n",
      "- Avengers Marvel Endgame Electronic Fist Roleplay Toy with Lights & Sounds for Kids Ages 5 & Up\n",
      "- Marvel Studios' The Avengers (4K UHD)\n",
      "- Marvel Studios' Avengers: Endgame (With Bonus)\n",
      "- Thor\n",
      "- MARVEL’S THE AVENGERS: IRON MAN – MARK VII\n",
      "- Iron Man 2\n",
      "- Spider-Man: Far From Home\n",
      "- Avengers: Infinity War (Plus Bonus Content)\n",
      "- Avengers Prime\n",
      "- Need help?\n"
     ]
    }
   ],
   "source": [
    "from selenium import webdriver\n",
    "from bs4 import BeautifulSoup\n",
    "import time\n",
    "\n",
    "keyword = input( '검색어를 입력하세요' )\n",
    "browser = webdriver.Chrome( './chromedriver' )\n",
    "\n",
    "browser.get( 'https://amazon.com' )\n",
    "search_input = browser.find_element_by_id( 'twotabsearchtextbox' )\n",
    "search_input.send_keys( keyword )\n",
    "search_input.submit()\n",
    "time.sleep( 2 )\n",
    "\n",
    "html = BeautifulSoup( browser.page_source, 'html.parser' )\n",
    "h2s = html.select( '.s-result-item:not(.AdHolder) h2' )\n",
    "\n",
    "for h2 in h2s :\n",
    "    print( '- ' + h2.get_text().strip() )\n",
    "\n",
    "browser.close()"
   ]
  },
  {
   "cell_type": "code",
   "execution_count": null,
   "metadata": {},
   "outputs": [],
   "source": []
  }
 ],
 "metadata": {
  "kernelspec": {
   "display_name": "Python 3",
   "language": "python",
   "name": "python3"
  },
  "language_info": {
   "codemirror_mode": {
    "name": "ipython",
    "version": 3
   },
   "file_extension": ".py",
   "mimetype": "text/x-python",
   "name": "python",
   "nbconvert_exporter": "python",
   "pygments_lexer": "ipython3",
   "version": "3.7.6"
  }
 },
 "nbformat": 4,
 "nbformat_minor": 4
}
