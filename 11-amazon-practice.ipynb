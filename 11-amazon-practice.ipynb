{
 "cells": [
  {
   "cell_type": "code",
   "execution_count": 6,
   "metadata": {},
   "outputs": [
    {
     "name": "stdout",
     "output_type": "stream",
     "text": [
      "검색어를 입력하세요AMD\n",
      "- AMD Ryzen 9 3900X 12-core, 24-thread unlocked desktop processor with Wraith Prism LED Cooler\n",
      "- AMD Ryzen 5 3600 6-Core, 12-Thread Unlocked Desktop Processor with Wraith Stealth Cooler\n",
      "- AMD Ryzen 7 3700X 8-Core, 16-Thread Unlocked Desktop Processor with Wraith Prism LED Cooler\n",
      "- Videos related to your search\n",
      "- AMD Ryzen 3 3200G 4-Core Unlocked Desktop Processor with Radeon Graphics\n",
      "- AMD Ryzen 5 2600 Processor with Wraith Stealth Cooler - YD2600BBAFBOX\n",
      "- AMD Ryzen 7 3800X 8-Core, 16-Thread Unlocked Desktop Processor with Wraith Prism LED Cooler\n",
      "- AMD Ryzen 9 3950X 16-Core, 32-Thread Unlocked Desktop Processor, Without Cooler\n",
      "- AMD Ryzen 5 3600X 6-Core, 12-Thread Unlocked Desktop Processor with Wraith Spire Cooler\n",
      "- AMD Ryzen 5 3400G 4-core, 8-Thread Unlocked Desktop Processor with Radeon RX Graphics\n",
      "- AMD Ryzen Threadripper 3970X 32-Core, 64-Thread Unlocked Desktop Processor, without Cooler\n",
      "- AMD Ryzen 7 2700X Processor with Wraith Prism LED Cooler - YD270XBGAFBOX\n",
      "- AMD Ryzen 5 1600 6-Core, 12-Thread Unlocked 65W Desktop Processor with Wraith Stealth Cooler (YD1600BBAFBOX)\n",
      "- Lenovo IdeaPad 3 14\" Laptop, 14.0\" FHD (1920 x 1080) Display, AMD Ryzen 5 3500U Processor, 8GB DDR4 RAM, 256GB SSD, AMD Radeon Vega 8 Graphics, Narrow Bezel, Windows 10, 81W0003QUS, Abyss Blue\n",
      "- AMD Ryzen 3 1200 Desktop Processor with Wraith Stealth Cooler (YD1200BBAEBOX)\n",
      "- AMD Ryzen Threadripper 3960X 24-Core, 48-Thread Unlocked Desktop Processor, without Cooler\n",
      "- AMD YD292XA8AFWOF Ryzen Threadripper 2920X (12-Core/24-Thread) Processor 4.3 GHz Max Boost 38MB Cache\n",
      "- Need help?\n"
     ]
    }
   ],
   "source": [
    "from selenium import webdriver\n",
    "from bs4 import BeautifulSoup\n",
    "\n",
    "keyword = input( '검색어를 입력하세요' )\n",
    "browser = webdriver.Chrome( './chromedriver' )\n",
    "\n",
    "url = 'https://www.amazon.com/s?k=' + keyword + '&ref=nb_sb_noss_2'\n",
    "browser.get( url )\n",
    "html = BeautifulSoup( browser.page_source, 'html.parser' )\n",
    "h2s = html.select( '.s-result-item:not(.AdHolder) h2' )\n",
    "\n",
    "for h2 in h2s :\n",
    "    print( '- ' + h2.get_text().strip() )\n",
    "\n",
    "browser.close()"
   ]
  },
  {
   "cell_type": "code",
   "execution_count": null,
   "metadata": {},
   "outputs": [],
   "source": []
  }
 ],
 "metadata": {
  "kernelspec": {
   "display_name": "Python 3",
   "language": "python",
   "name": "python3"
  },
  "language_info": {
   "codemirror_mode": {
    "name": "ipython",
    "version": 3
   },
   "file_extension": ".py",
   "mimetype": "text/x-python",
   "name": "python",
   "nbconvert_exporter": "python",
   "pygments_lexer": "ipython3",
   "version": "3.7.6"
  }
 },
 "nbformat": 4,
 "nbformat_minor": 4
}
