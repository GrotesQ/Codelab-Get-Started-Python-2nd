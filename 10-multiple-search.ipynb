{
 "cells": [
  {
   "cell_type": "code",
   "execution_count": 8,
   "metadata": {
    "scrolled": true
   },
   "outputs": [
    {
     "name": "stdout",
     "output_type": "stream",
     "text": [
      "[ Google ]\n",
      "https://ko.wikipedia.org/wiki/%ED%8C%8C%EC%9D%B4%EC%8D%AC\n",
      "파이썬 - 위키백과, 우리 모두의 백과사전\n",
      "https://docs.python.org/ko/3/tutorial/index.html\n",
      "파이썬 자습서 — Python 3.8.3 문서\n",
      "https://namu.wiki/w/Python\n",
      "Python - 나무위키\n",
      "https://wikidocs.net/43\n",
      "1. 파이썬 시작하기 - 왕초보를 위한 Python - WikiDocs\n",
      "http://pythonstudy.xyz/python/article/6-Python-%EC%BD%94%EB%94%A9%EC%9D%98-%EA%B8%B0%EC%B4%88\n",
      "Python 코딩의 기초 - 예제로 배우는 파이썬 프로그래밍\n",
      "https://byline.network/2020/03/17-90/\n",
      "파이썬의 인기는 언제까지 갈까? - Byline Network\n",
      "https://dojang.io/mod/page/view.php?id=2153\n",
      "파이썬 코딩 도장: 1.3 파이썬\n",
      "https://edu.goorm.io/learn/lecture/202/%EB%B0%94%EB%A1%9C-%EC%8B%A4%ED%96%89%ED%95%B4%EB%B3%B4%EB%A9%B4%EC%84%9C-%EB%B0%B0%EC%9A%B0%EB%8A%94-%ED%8C%8C%EC%9D%B4%EC%8D%AC/lesson/6037/%ED%8C%8C%EC%9D%B4%EC%8D%AC%EC%9D%B4%EB%9E%80\n",
      "파이썬이란? - 바로 실행해보면서 배우는 파이썬\n",
      "[ Naver ]\n",
      "https://www.python.org/\n",
      "Welcome to Python.org\n",
      "https://namu.wiki/w/Python\n",
      "Python - 나무위키\n",
      "https://namu.wiki/w/%ED%8C%8C%EC%9D%B4%EC%84%A0\n",
      "파이선 - 나무위키\n"
     ]
    }
   ],
   "source": [
    "from selenium import webdriver\n",
    "from bs4 import BeautifulSoup\n",
    "\n",
    "browser = webdriver.Chrome( './chromedriver' )\n",
    "\n",
    "print( '[ Google ]' )\n",
    "\n",
    "google_url = 'https://www.google.com/search?q=%ED%8C%8C%EC%9D%B4%EC%8D%AC'\n",
    "browser.get( google_url )\n",
    "html = BeautifulSoup( browser.page_source, 'html.parser' )\n",
    "links = html.select( '#search .r > a' )\n",
    "for link in links :\n",
    "    print( link[ 'href' ] )\n",
    "    print( link.find( 'h3' ).get_text() )\n",
    "    \n",
    "print( '[ Naver ]' )\n",
    "\n",
    "naver_url = 'https://search.naver.com/search.naver?query=%ED%8C%8C%EC%9D%B4%EC%8D%AC'\n",
    "browser.get( naver_url )\n",
    "html = BeautifulSoup( browser.page_source, 'html.parser' )\n",
    "links = html.select( 'ul.type01 a.title_link' )\n",
    "for link in links :\n",
    "    print( link[ 'href' ] )\n",
    "    print( link.get_text() )\n",
    "\n",
    "browser.close()"
   ]
  },
  {
   "cell_type": "code",
   "execution_count": null,
   "metadata": {},
   "outputs": [],
   "source": []
  }
 ],
 "metadata": {
  "kernelspec": {
   "display_name": "Python 3",
   "language": "python",
   "name": "python3"
  },
  "language_info": {
   "codemirror_mode": {
    "name": "ipython",
    "version": 3
   },
   "file_extension": ".py",
   "mimetype": "text/x-python",
   "name": "python",
   "nbconvert_exporter": "python",
   "pygments_lexer": "ipython3",
   "version": "3.7.6"
  }
 },
 "nbformat": 4,
 "nbformat_minor": 4
}
