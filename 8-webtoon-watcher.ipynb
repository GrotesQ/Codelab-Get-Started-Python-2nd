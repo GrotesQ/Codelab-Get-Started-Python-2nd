{
 "cells": [
  {
   "cell_type": "code",
   "execution_count": 12,
   "metadata": {},
   "outputs": [
    {
     "name": "stdout",
     "output_type": "stream",
     "text": [
      "확인 완료\n"
     ]
    }
   ],
   "source": [
    "import requests\n",
    "from bs4 import BeautifulSoup\n",
    "\n",
    "url = \"https://comic.naver.com/webtoon/list.nhn?titleId=728128&weekday=sun\"\n",
    "response = requests.get( url )\n",
    "html = BeautifulSoup( response.content, \"html.parser\" )\n",
    "\n",
    "# 파일이 있을 때\n",
    "# 없을 때\n",
    "\n",
    "try :\n",
    "    # 시도\n",
    "    file = open( \"list.txt\", \"r\" )\n",
    "    lines = file.readlines() # [ \"54화\\n\", \"53화\\n\", \"52화\\n\" ]\n",
    "    file.close()\n",
    "except :\n",
    "    # 예외 발생\n",
    "    lines = []\n",
    "\n",
    "titles = html.find_all( class_=\"title\" )\n",
    "\n",
    "file = open( \"list.txt\", \"a\" )\n",
    "\n",
    "for title in titles :\n",
    "    title_text = title.get_text().strip() + \"\\n\"\n",
    "    \n",
    "    # 기존 목록에 있는지 없는지 시도\n",
    "    try :\n",
    "        lines.index( title_text ) # 일치하는 값이 있으면 인덱스 번호를 반환, 없을 경우에 예외 발생\n",
    "    except :\n",
    "        file.write( title_text )\n",
    "        print( \"새로운 에피소드가 있는 것 같습니다 : \" + title_text )\n",
    "\n",
    "file.close()\n",
    "print( \"확인 완료\" )"
   ]
  },
  {
   "cell_type": "code",
   "execution_count": null,
   "metadata": {},
   "outputs": [],
   "source": []
  }
 ],
 "metadata": {
  "kernelspec": {
   "display_name": "Python 3",
   "language": "python",
   "name": "python3"
  },
  "language_info": {
   "codemirror_mode": {
    "name": "ipython",
    "version": 3
   },
   "file_extension": ".py",
   "mimetype": "text/x-python",
   "name": "python",
   "nbconvert_exporter": "python",
   "pygments_lexer": "ipython3",
   "version": "3.7.6"
  }
 },
 "nbformat": 4,
 "nbformat_minor": 4
}
