{
 "cells": [
  {
   "cell_type": "code",
   "execution_count": 9,
   "metadata": {},
   "outputs": [
    {
     "name": "stdout",
     "output_type": "stream",
     "text": [
      "2020년 05월 23일 주요 통화 환율\n",
      "달러 환율\n",
      "1,240.50\n",
      "엔 환율\n",
      "1,154.65\n",
      "위안 환율\n",
      "173.46\n"
     ]
    }
   ],
   "source": [
    "import requests\n",
    "from bs4 import BeautifulSoup\n",
    "from datetime import datetime\n",
    "\n",
    "# 함수\n",
    "def load( keyword ) : # def 함수명(인자):\n",
    "    response = requests.get( \"https://search.naver.com/search.naver?sm=top_hty&fbm=0&ie=utf8&query=\" + keyword )\n",
    "    html = BeautifulSoup( response.content, 'html.parser' )\n",
    "    rate_tlt = html.find( class_=\"rate_tlt\" )\n",
    "    currency = rate_tlt.find( \"strong\" )\n",
    "    print( keyword )\n",
    "    print( currency.get_text() )\n",
    "\n",
    "print( datetime.today().strftime( \"%Y년 %m월 %d일 주요 통화 환율\" ) )\n",
    "load( \"달러 환율\" )\n",
    "load( \"엔 환율\" )\n",
    "load( \"위안 환율\" )"
   ]
  },
  {
   "cell_type": "code",
   "execution_count": null,
   "metadata": {},
   "outputs": [],
   "source": []
  }
 ],
 "metadata": {
  "kernelspec": {
   "display_name": "Python 3",
   "language": "python",
   "name": "python3"
  },
  "language_info": {
   "codemirror_mode": {
    "name": "ipython",
    "version": 3
   },
   "file_extension": ".py",
   "mimetype": "text/x-python",
   "name": "python",
   "nbconvert_exporter": "python",
   "pygments_lexer": "ipython3",
   "version": "3.7.6"
  }
 },
 "nbformat": 4,
 "nbformat_minor": 4
}
