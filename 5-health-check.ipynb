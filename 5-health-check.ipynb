{
 "cells": [
  {
   "cell_type": "code",
   "execution_count": 15,
   "metadata": {},
   "outputs": [
    {
     "name": "stdout",
     "output_type": "stream",
     "text": [
      "정상 접속 됨\n",
      "h1 태그 확인됨\n",
      "h2 태그 확인됨\n",
      "h6 태그 없음\n",
      "헬스 체크 완료\n"
     ]
    }
   ],
   "source": [
    "import requests\n",
    "from bs4 import BeautifulSoup\n",
    "\n",
    "url = \"https://github.com/GrotesQ/Codelab-Get-Started-Python-2nd\"\n",
    "response = requests.get( url )\n",
    "\n",
    "# 조건문, 제어문\n",
    "if( response.status_code < 400 ) : # if( 조건 )\n",
    "    print( \"정상 접속 됨\" )\n",
    "else :\n",
    "    print( \"접속 오류\" )\n",
    "    print( \"status code : \" + str( response.status_code ) ) # status_code 데이터 타입 : 정수\n",
    "\n",
    "html = BeautifulSoup( response.content, \"html.parser\" )\n",
    "h1 = html.find( \"h1\" )\n",
    "if( h1 is None ) :\n",
    "    print( \"h1 태그 없음\" )\n",
    "else :\n",
    "    print( \"h1 태그 확인됨\" )\n",
    "\n",
    "h2 = html.find( \"h2\" )\n",
    "if( h2 is None ) :\n",
    "    print( \"h2 태그 없음\" )\n",
    "else :\n",
    "    print( \"h2 태그 확인됨\" )\n",
    "    \n",
    "h6 = html.find( \"h6\" )\n",
    "if( h6 is None ) :\n",
    "    print( \"h6 태그 없음\" )\n",
    "else :\n",
    "    print( \"h6 태그 확인됨\" )\n",
    "\n",
    "print( \"헬스 체크 완료\" )"
   ]
  },
  {
   "cell_type": "code",
   "execution_count": null,
   "metadata": {},
   "outputs": [],
   "source": []
  }
 ],
 "metadata": {
  "kernelspec": {
   "display_name": "Python 3",
   "language": "python",
   "name": "python3"
  },
  "language_info": {
   "codemirror_mode": {
    "name": "ipython",
    "version": 3
   },
   "file_extension": ".py",
   "mimetype": "text/x-python",
   "name": "python",
   "nbconvert_exporter": "python",
   "pygments_lexer": "ipython3",
   "version": "3.7.6"
  }
 },
 "nbformat": 4,
 "nbformat_minor": 4
}
